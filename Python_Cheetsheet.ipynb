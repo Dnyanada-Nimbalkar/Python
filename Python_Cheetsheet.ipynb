{
  "nbformat": 4,
  "nbformat_minor": 0,
  "metadata": {
    "colab": {
      "provenance": []
    },
    "kernelspec": {
      "name": "python3",
      "display_name": "Python 3"
    },
    "language_info": {
      "name": "python"
    }
  },
  "cells": [
    {
      "cell_type": "markdown",
      "source": [
        " Let's dive into more details on some key Python concepts:"
      ],
      "metadata": {
        "id": "4SOxPdRMf6Z2"
      }
    },
    {
      "cell_type": "markdown",
      "source": [
        "##Variables and Data Types:\n"
      ],
      "metadata": {
        "id": "22GMYC-eejxv"
      }
    },
    {
      "cell_type": "code",
      "execution_count": null,
      "metadata": {
        "id": "i7O08WS-eBDv"
      },
      "outputs": [],
      "source": [
        "Variables:\n",
        "\n",
        "#Dynamically typed: You don't need to declare the data type explicitly.\n",
        "#Example:\n",
        "x = 5\n",
        "y = \"text\""
      ]
    },
    {
      "cell_type": "markdown",
      "source": [
        "Data Types:\n",
        "\n",
        "Numeric Types: int, float\n",
        "\n",
        "Sequence Types: str, list, tuple\n",
        "\n",
        "Mapping Type: dict\n",
        "\n",
        "Set Types: set\n",
        "\n",
        "Boolean Type: bool"
      ],
      "metadata": {
        "id": "hmqY8rIhe_aV"
      }
    },
    {
      "cell_type": "markdown",
      "source": [
        "#Control Flow"
      ],
      "metadata": {
        "id": "0ykpf79ufL8O"
      }
    },
    {
      "cell_type": "markdown",
      "source": [
        "Conditionals (if, elif, else):"
      ],
      "metadata": {
        "id": "G9337XgIfSoG"
      }
    },
    {
      "cell_type": "code",
      "source": [
        "if condition:\n",
        "    # code\n",
        "elif another_condition:\n",
        "    # code\n",
        "else:\n",
        "    # code\n"
      ],
      "metadata": {
        "id": "2ZYH3zhJfC4l"
      },
      "execution_count": null,
      "outputs": []
    },
    {
      "cell_type": "markdown",
      "source": [
        "Loops (for, while):"
      ],
      "metadata": {
        "id": "toXSfabefk6S"
      }
    },
    {
      "cell_type": "code",
      "source": [
        "for item in iterable:\n",
        "    # code\n",
        "\n",
        "while condition:\n",
        "    # code\n"
      ],
      "metadata": {
        "id": "LkEIOnKQfmB4"
      },
      "execution_count": null,
      "outputs": []
    },
    {
      "cell_type": "markdown",
      "source": [
        "#Functions"
      ],
      "metadata": {
        "id": "tsYSumGwgEpi"
      }
    },
    {
      "cell_type": "code",
      "source": [
        "### Functions\n",
        "\n",
        "  def my_function(parameter):\n",
        "      # code\n",
        "      return result"
      ],
      "metadata": {
        "id": "Rh98rmpQgHxt"
      },
      "execution_count": null,
      "outputs": []
    },
    {
      "cell_type": "code",
      "source": [
        "#Lambda Functions:\n",
        "  #- Anonymous functions defined using `lambda`.\n",
        "\n",
        "multiply = lambda x, y: x * y\n"
      ],
      "metadata": {
        "id": "3ITuMp97gRbp"
      },
      "execution_count": null,
      "outputs": []
    },
    {
      "cell_type": "markdown",
      "source": [
        "#Data Structures"
      ],
      "metadata": {
        "id": "ZDjozMpQgd2u"
      }
    },
    {
      "cell_type": "markdown",
      "source": [
        "List"
      ],
      "metadata": {
        "id": "VStH7wPtgsXR"
      }
    },
    {
      "cell_type": "code",
      "source": [
        "#- Ordered, mutable.\n",
        "\n",
        "my_list = [1, 2, 3]\n",
        "my_list.append(4)\n",
        "element = my_list[0]"
      ],
      "metadata": {
        "id": "Vzpq6PnzghKA"
      },
      "execution_count": null,
      "outputs": []
    },
    {
      "cell_type": "markdown",
      "source": [
        "**Tuples**"
      ],
      "metadata": {
        "id": "9bWDhHrRgulJ"
      }
    },
    {
      "cell_type": "code",
      "source": [
        "#Ordered, immutable.\n",
        "\n",
        "my_tuple = (1, 2, 3)"
      ],
      "metadata": {
        "id": "dtO0iFAQgy9L"
      },
      "execution_count": null,
      "outputs": []
    },
    {
      "cell_type": "markdown",
      "source": [
        "Dictionaries"
      ],
      "metadata": {
        "id": "h3xC62SYgya-"
      }
    },
    {
      "cell_type": "code",
      "source": [
        "#Unordered key-value pairs.\n",
        "\n",
        "my_dict = {\"key\": \"value\"}\n",
        "value = my_dict[\"key\"]"
      ],
      "metadata": {
        "id": "6lQIfO15hD92"
      },
      "execution_count": null,
      "outputs": []
    },
    {
      "cell_type": "markdown",
      "source": [
        "Sets"
      ],
      "metadata": {
        "id": "Wo71EgOYhRh-"
      }
    },
    {
      "cell_type": "code",
      "source": [
        "#Unordered collection of unique elements.\n",
        "\n",
        "my_set = {1, 2, 3}"
      ],
      "metadata": {
        "id": "Zry6hFcdhS2R"
      },
      "execution_count": null,
      "outputs": []
    },
    {
      "cell_type": "markdown",
      "source": [
        "Strings"
      ],
      "metadata": {
        "id": "35GSPTT8heUy"
      }
    },
    {
      "cell_type": "code",
      "source": [
        "#Immutable sequences of characters.\n",
        "\n",
        "my_string = \"Hello, World!\"\n",
        "substring = my_string[7:12]"
      ],
      "metadata": {
        "id": "H4rzn454he-8"
      },
      "execution_count": null,
      "outputs": []
    },
    {
      "cell_type": "markdown",
      "source": [
        "#Advanced Conncepts:"
      ],
      "metadata": {
        "id": "kWCHnSrch1Bn"
      }
    },
    {
      "cell_type": "markdown",
      "source": [
        "List Comprehension"
      ],
      "metadata": {
        "id": "-Btz0UQkh5Ch"
      }
    },
    {
      "cell_type": "code",
      "source": [
        "#Concise way to create lists.\n",
        "\n",
        "squares = [x**2 for x in range(5)]"
      ],
      "metadata": {
        "id": "Hll-5sOrh9c-"
      },
      "execution_count": null,
      "outputs": []
    },
    {
      "cell_type": "markdown",
      "source": [
        "Map And Filter"
      ],
      "metadata": {
        "id": "O9HMjsip0166"
      }
    },
    {
      "cell_type": "code",
      "source": [
        "#Functional programming concepts.\n",
        "\n",
        "squared = list(map(lambda x: x**2, numbers))\n",
        "evens = list(filter(lambda x: x % 2 == 0, numbers))"
      ],
      "metadata": {
        "id": "1dl8zVOY043q"
      },
      "execution_count": null,
      "outputs": []
    },
    {
      "cell_type": "markdown",
      "source": [
        "Classes and Objects"
      ],
      "metadata": {
        "id": "MgcOfePM1FkH"
      }
    },
    {
      "cell_type": "code",
      "source": [
        "#Object-oriented programming.\n",
        "\n",
        "class MyClass:\n",
        "    def __init__(self, attribute):\n",
        "        self.attribute = attribute"
      ],
      "metadata": {
        "id": "GPQjT0sb1Isv"
      },
      "execution_count": null,
      "outputs": []
    },
    {
      "cell_type": "markdown",
      "source": [
        "Exception Handling"
      ],
      "metadata": {
        "id": "GWeT52nR1YaP"
      }
    },
    {
      "cell_type": "code",
      "source": [
        "# `try`, `except`, `finally` blocks for handling errors.\n",
        "\n",
        "try:\n",
        "     # code\n",
        "except SomeError as e:\n",
        "     # handle error\n",
        "finally:\n",
        "     # code to execute regardless of exception"
      ],
      "metadata": {
        "id": "zDmGbeMd1au-"
      },
      "execution_count": null,
      "outputs": []
    },
    {
      "cell_type": "markdown",
      "source": [
        "# List Operations"
      ],
      "metadata": {
        "id": "WELmAg0j1xYg"
      }
    },
    {
      "cell_type": "code",
      "source": [
        "### **List Operations:**\n",
        "#- **Slicing:**\n",
        "# - Extracting portions of a list.\n",
        "\n",
        "my_list = [1, 2, 3, 4, 5]\n",
        "subset = my_list[1:4]  # [2, 3, 4]\n",
        "\n",
        "\n",
        "#- **List Methods:**\n",
        "# - Common methods include `append()`, `extend()`, `insert()`, `remove()`, `pop()`.\n",
        "\n",
        "my_list.append(6)\n",
        "my_list.extend([7, 8])\n",
        "my_list.insert(2, 10)\n",
        "my_list.remove(4)\n",
        "popped_item = my_list.pop(1)\n"
      ],
      "metadata": {
        "id": "xg_0XROD25VW"
      },
      "execution_count": null,
      "outputs": []
    },
    {
      "cell_type": "markdown",
      "source": [
        "### Dictionary Operations"
      ],
      "metadata": {
        "id": "6sra8n2j2zyz"
      }
    },
    {
      "cell_type": "code",
      "source": [
        "### **Dictionary Operations:**\n",
        "#- **Dictionary Methods:**\n",
        "#  - Methods like `keys()`, `values()`, `items()`.\n",
        "\n",
        "keys = my_dict.keys()\n",
        "values = my_dict.values()\n",
        "items = my_dict.items()\n",
        "\n",
        "\n",
        "#- **Dictionary Comprehension:**\n",
        "#  - Creating dictionaries in a concise manner.\n",
        "\n",
        "squared_dict = {x: x**2 for x in range(5)}\n",
        "\n"
      ],
      "metadata": {
        "id": "r0FWXxsL3SVV"
      },
      "execution_count": null,
      "outputs": []
    },
    {
      "cell_type": "markdown",
      "source": [
        "#File and Exceptions Handling"
      ],
      "metadata": {
        "id": "6HYD4ggZ3w0j"
      }
    },
    {
      "cell_type": "code",
      "source": [
        "### **File Handling:**\n",
        "#- **Reading from a File:**\n",
        "\n",
        "with open('filename.txt', 'r') as file:\n",
        "    content = file.read()\n",
        "\n",
        "\n",
        "#- **Writing to a File:**\n",
        "\n",
        "with open('new_file.txt', 'w') as file:\n",
        "    file.write('Hello, File!')\n",
        ""
      ],
      "metadata": {
        "id": "ohGPzsxW3vx7"
      },
      "execution_count": null,
      "outputs": []
    },
    {
      "cell_type": "code",
      "source": [
        "### **Exception Handling (continued):**\n",
        "- **Custom Exceptions:**\n",
        "  - Defining custom exception classes.\n",
        "  ```python\n",
        "  class CustomError(Exception):\n",
        "      pass"
      ],
      "metadata": {
        "id": "j5XMVe1Y4HCZ"
      },
      "execution_count": null,
      "outputs": []
    },
    {
      "cell_type": "markdown",
      "source": [
        "### **Decorators:**"
      ],
      "metadata": {
        "id": "f6kTgisZ45m2"
      }
    },
    {
      "cell_type": "code",
      "source": [
        "### **Decorators:**\n",
        "#- **Creating a Decorator:**\n",
        "#  - Functions modifying the behavior of other functions.\n",
        "\n",
        "def my_decorator(func):\n",
        "    def wrapper():\n",
        "        # code before\n",
        "        func()\n",
        "        # code after\n",
        "    return wrapper\n",
        "\n",
        "@my_decorator\n",
        "def say_hello():\n",
        "    print(\"Hello!\")\n",
        "\n"
      ],
      "metadata": {
        "id": "1DDHeBfZ43iU"
      },
      "execution_count": null,
      "outputs": []
    },
    {
      "cell_type": "markdown",
      "source": [
        "### **Generators:**"
      ],
      "metadata": {
        "id": "-Pi49ODA5Kq4"
      }
    },
    {
      "cell_type": "code",
      "source": [
        "#- **Generator Functions:**\n",
        "#  - Producing a sequence of values over time.\n",
        "\n",
        "def countdown(n):\n",
        "    while n > 0:\n",
        "        yield n\n",
        "        n -= 1\n",
        "\n",
        "for i in countdown(5):\n",
        "    print(i)\n"
      ],
      "metadata": {
        "id": "w6WWz9MN5IPM"
      },
      "execution_count": null,
      "outputs": []
    },
    {
      "cell_type": "markdown",
      "source": [
        "### **Modules and Packages:**"
      ],
      "metadata": {
        "id": "BzOyP3WE4Q4l"
      }
    },
    {
      "cell_type": "code",
      "source": [
        "#- **Importing Modules:**\n",
        "\n",
        "import math\n",
        "result = math.sqrt(25)\n",
        "\n",
        "\n",
        "#- **Creating Modules:**\n",
        "#  - Creating reusable code in separate Python files.\n",
        "\n",
        "# module.py\n",
        "def my_function():\n",
        "    # code\n",
        ""
      ],
      "metadata": {
        "id": "Q0avQUSp4OqB"
      },
      "execution_count": null,
      "outputs": []
    },
    {
      "cell_type": "markdown",
      "source": [
        "### **Virtual Environments:**"
      ],
      "metadata": {
        "id": "S8PlJJp-4mzV"
      }
    },
    {
      "cell_type": "code",
      "source": [
        "#- **Creating a Virtual Environment:**\n",
        "  ```bash\n",
        "  python -m venv myenv\n",
        "  ```\n",
        "\n",
        "- **Activating a Virtual Environment:**\n",
        "  - Windows: `myenv\\Scripts\\activate`\n",
        "  - Unix or MacOS: `source myenv/bin/activate`"
      ],
      "metadata": {
        "id": "Dg1Rft_54iRb"
      },
      "execution_count": null,
      "outputs": []
    }
  ]
}